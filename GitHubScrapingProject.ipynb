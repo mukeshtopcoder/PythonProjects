{
 "cells": [
  {
   "cell_type": "markdown",
   "id": "a1b9cec0-fdb8-40af-8339-c867da58280d",
   "metadata": {},
   "source": [
    "# A Web Scrapping Project on GitHub Top Repositories"
   ]
  },
  {
   "cell_type": "code",
   "execution_count": 1,
   "id": "72197f2a-acc3-4699-ad84-00c998002ac7",
   "metadata": {},
   "outputs": [],
   "source": [
    "import pandas as pd\n",
    "import requests\n",
    "from bs4 import BeautifulSoup"
   ]
  },
  {
   "cell_type": "code",
   "execution_count": 2,
   "id": "aa066122-9729-4291-827b-9311ac589102",
   "metadata": {},
   "outputs": [],
   "source": [
    "url = \"https://github.com/topics\""
   ]
  },
  {
   "cell_type": "code",
   "execution_count": 3,
   "id": "5ec1b85e-15b0-46db-b718-db18ab977108",
   "metadata": {},
   "outputs": [],
   "source": [
    "res = requests.get(url)"
   ]
  },
  {
   "cell_type": "code",
   "execution_count": 4,
   "id": "196bee98-ee09-45e1-bd4f-77d51dab410f",
   "metadata": {},
   "outputs": [
    {
     "data": {
      "text/plain": [
       "200"
      ]
     },
     "execution_count": 4,
     "metadata": {},
     "output_type": "execute_result"
    }
   ],
   "source": [
    "res.status_code"
   ]
  },
  {
   "cell_type": "code",
   "execution_count": 5,
   "id": "2199192a-f903-46aa-8776-334b8f1bc50b",
   "metadata": {},
   "outputs": [],
   "source": [
    "content = res.text"
   ]
  },
  {
   "cell_type": "code",
   "execution_count": 6,
   "id": "084cce91-70d4-4029-a22a-7eeda2a5261f",
   "metadata": {},
   "outputs": [
    {
     "data": {
      "text/plain": [
       "'\\n\\n<!DOCTYPE html>\\n<html\\n  lang=\"en\"\\n  \\n  data-color-mode=\"auto\" data-light-theme=\"light\" data-dark-theme=\"dark\"\\n  data-a11y-animated-images=\"system\" data-a11y-link-underlines=\"true\"\\n  \\n  >\\n\\n\\n\\n  <head>\\n    <meta charset=\"utf-8\">\\n  <link rel=\"dns-prefetch\" href=\"https://github.githubassets.com\">\\n  <link rel=\"dns-prefetch\" href=\"https://avatars.githubusercontent.com\">\\n  <link rel=\"dns-prefetch\" href=\"https://github-cloud.s3.amazonaws.com\">\\n  <link rel=\"dns-prefetch\" href=\"https://user-images.githubusercontent.com/\">\\n  <link rel=\"preconnect\" href=\"https://github.githubassets.com\" crossorigin>\\n  <link rel=\"preconnect\" href=\"https://avatars.githubusercontent.com\">\\n\\n  \\n\\n  <link crossorigin=\"anonymous\" media=\"all\" rel=\"stylesheet\" href=\"https://github.githubassets.com/assets/light-605318cbe3a1.css\" /><link crossorigin=\"anonymous\" media=\"all\" rel=\"stylesheet\" href=\"https://github.githubassets.com/assets/dark-bd1cb5575fff.css\" /><link data-color-theme=\"dark_dimmed\" crossorigin=\"anonymous\" media='"
      ]
     },
     "execution_count": 6,
     "metadata": {},
     "output_type": "execute_result"
    }
   ],
   "source": [
    "content[:1000]"
   ]
  },
  {
   "cell_type": "code",
   "execution_count": 7,
   "id": "54e5f81c-5784-4fb4-b792-3e2dde9fe2fa",
   "metadata": {},
   "outputs": [],
   "source": [
    "data = BeautifulSoup(content,\"html.parser\")"
   ]
  },
  {
   "cell_type": "code",
   "execution_count": 9,
   "id": "ac4017bf-88ce-44a2-b06f-a2772c53d587",
   "metadata": {},
   "outputs": [
    {
     "data": {
      "text/plain": [
       "5"
      ]
     },
     "execution_count": 9,
     "metadata": {},
     "output_type": "execute_result"
    }
   ],
   "source": [
    "len(data)"
   ]
  },
  {
   "cell_type": "code",
   "execution_count": 11,
   "id": "7e514e44-c950-45ce-ac0c-1b0fcd87a1bb",
   "metadata": {},
   "outputs": [
    {
     "data": {
      "text/plain": [
       "<a class=\"no-underline flex-1 d-flex flex-column\" href=\"/topics/3d\">\n",
       "<p class=\"f3 lh-condensed mb-0 mt-1 Link--primary\">3D</p>\n",
       "<p class=\"f5 color-fg-muted mb-0 mt-1\">\n",
       "          3D refers to the use of three-dimensional graphics, modeling, and animation in various industries.\n",
       "        </p>\n",
       "</a>"
      ]
     },
     "execution_count": 11,
     "metadata": {},
     "output_type": "execute_result"
    }
   ],
   "source": [
    "data.find('a',class_='no-underline flex-1 d-flex flex-column')"
   ]
  },
  {
   "cell_type": "code",
   "execution_count": 12,
   "id": "64c5533e-dc0e-400a-a472-4e9569238c26",
   "metadata": {},
   "outputs": [
    {
     "data": {
      "text/plain": [
       "'/topics/3d'"
      ]
     },
     "execution_count": 12,
     "metadata": {},
     "output_type": "execute_result"
    }
   ],
   "source": [
    "data.find('a',class_='no-underline flex-1 d-flex flex-column')['href']"
   ]
  },
  {
   "cell_type": "code",
   "execution_count": 15,
   "id": "6a2773b8-fc5f-4288-92ec-631524260cf0",
   "metadata": {},
   "outputs": [
    {
     "data": {
      "text/plain": [
       "'3D'"
      ]
     },
     "execution_count": 15,
     "metadata": {},
     "output_type": "execute_result"
    }
   ],
   "source": [
    "data.find('a',class_='no-underline flex-1 d-flex flex-column').find('p').text"
   ]
  },
  {
   "cell_type": "code",
   "execution_count": 19,
   "id": "c8cd784c-4942-4175-8f01-0d7dd66e2e39",
   "metadata": {},
   "outputs": [
    {
     "data": {
      "text/plain": [
       "'\\n          3D refers to the use of three-dimensional graphics, modeling, and animation in various industries.\\n        '"
      ]
     },
     "execution_count": 19,
     "metadata": {},
     "output_type": "execute_result"
    }
   ],
   "source": [
    "data.find('a',class_='no-underline flex-1 d-flex flex-column').find_all('p')[1].text"
   ]
  },
  {
   "cell_type": "code",
   "execution_count": 26,
   "id": "e59466ad-09e1-4944-b215-ca0192a83911",
   "metadata": {},
   "outputs": [],
   "source": [
    "topic = []\n",
    "desc = []\n",
    "link = []"
   ]
  },
  {
   "cell_type": "code",
   "execution_count": 27,
   "id": "f37fbe45-4350-48c1-b857-fd870d98d3f2",
   "metadata": {},
   "outputs": [],
   "source": [
    "for a in data.find_all('a',class_='no-underline flex-1 d-flex flex-column'):\n",
    "    link.append(\"https://github.com\"+a['href'])\n",
    "    topic.append(a.find('p').text)\n",
    "    desc.append(a.find_all('p')[1].text)"
   ]
  },
  {
   "cell_type": "code",
   "execution_count": 28,
   "id": "a79902f5-2eea-40ff-9e77-f993fc66872c",
   "metadata": {},
   "outputs": [
    {
     "data": {
      "text/plain": [
       "(30, 30, 30)"
      ]
     },
     "execution_count": 28,
     "metadata": {},
     "output_type": "execute_result"
    }
   ],
   "source": [
    "len(topic) , len(desc) , len(link)"
   ]
  },
  {
   "cell_type": "code",
   "execution_count": 29,
   "id": "b49067dc-65bc-4529-a9bb-4449279acaef",
   "metadata": {},
   "outputs": [],
   "source": [
    "ds = {\n",
    "    'GitHub_Topic':topic,\n",
    "    'Topic_Desc':desc,\n",
    "    'Topic_Link':link\n",
    "}"
   ]
  },
  {
   "cell_type": "code",
   "execution_count": 30,
   "id": "58e85037-24c1-4bb0-99ab-a380b257ddf7",
   "metadata": {},
   "outputs": [],
   "source": [
    "df1 = pd.DataFrame(ds)"
   ]
  },
  {
   "cell_type": "code",
   "execution_count": 31,
   "id": "93a523bf-61f7-4334-81d3-6edf4f1610c7",
   "metadata": {},
   "outputs": [
    {
     "data": {
      "text/plain": [
       "(30, 3)"
      ]
     },
     "execution_count": 31,
     "metadata": {},
     "output_type": "execute_result"
    }
   ],
   "source": [
    "df1.shape"
   ]
  },
  {
   "cell_type": "code",
   "execution_count": 32,
   "id": "b79d3b78-b331-4d54-abff-bb193244a234",
   "metadata": {},
   "outputs": [
    {
     "data": {
      "text/html": [
       "<div>\n",
       "<style scoped>\n",
       "    .dataframe tbody tr th:only-of-type {\n",
       "        vertical-align: middle;\n",
       "    }\n",
       "\n",
       "    .dataframe tbody tr th {\n",
       "        vertical-align: top;\n",
       "    }\n",
       "\n",
       "    .dataframe thead th {\n",
       "        text-align: right;\n",
       "    }\n",
       "</style>\n",
       "<table border=\"1\" class=\"dataframe\">\n",
       "  <thead>\n",
       "    <tr style=\"text-align: right;\">\n",
       "      <th></th>\n",
       "      <th>GitHub_Topic</th>\n",
       "      <th>Topic_Desc</th>\n",
       "      <th>Topic_Link</th>\n",
       "    </tr>\n",
       "  </thead>\n",
       "  <tbody>\n",
       "    <tr>\n",
       "      <th>0</th>\n",
       "      <td>3D</td>\n",
       "      <td>\\n          3D refers to the use of three-dime...</td>\n",
       "      <td>https://github.com/topics/3d</td>\n",
       "    </tr>\n",
       "    <tr>\n",
       "      <th>1</th>\n",
       "      <td>Ajax</td>\n",
       "      <td>\\n          Ajax is a technique for creating i...</td>\n",
       "      <td>https://github.com/topics/ajax</td>\n",
       "    </tr>\n",
       "    <tr>\n",
       "      <th>2</th>\n",
       "      <td>Algorithm</td>\n",
       "      <td>\\n          Algorithms are self-contained sequ...</td>\n",
       "      <td>https://github.com/topics/algorithm</td>\n",
       "    </tr>\n",
       "    <tr>\n",
       "      <th>3</th>\n",
       "      <td>Amp</td>\n",
       "      <td>\\n          Amp is a non-blocking concurrency ...</td>\n",
       "      <td>https://github.com/topics/amphp</td>\n",
       "    </tr>\n",
       "    <tr>\n",
       "      <th>4</th>\n",
       "      <td>Android</td>\n",
       "      <td>\\n          Android is an operating system bui...</td>\n",
       "      <td>https://github.com/topics/android</td>\n",
       "    </tr>\n",
       "    <tr>\n",
       "      <th>5</th>\n",
       "      <td>Angular</td>\n",
       "      <td>\\n          Angular is an open source web appl...</td>\n",
       "      <td>https://github.com/topics/angular</td>\n",
       "    </tr>\n",
       "    <tr>\n",
       "      <th>6</th>\n",
       "      <td>Ansible</td>\n",
       "      <td>\\n          Ansible is a simple and powerful a...</td>\n",
       "      <td>https://github.com/topics/ansible</td>\n",
       "    </tr>\n",
       "    <tr>\n",
       "      <th>7</th>\n",
       "      <td>API</td>\n",
       "      <td>\\n          An API (Application Programming In...</td>\n",
       "      <td>https://github.com/topics/api</td>\n",
       "    </tr>\n",
       "    <tr>\n",
       "      <th>8</th>\n",
       "      <td>Arduino</td>\n",
       "      <td>\\n          Arduino is an open source platform...</td>\n",
       "      <td>https://github.com/topics/arduino</td>\n",
       "    </tr>\n",
       "    <tr>\n",
       "      <th>9</th>\n",
       "      <td>ASP.NET</td>\n",
       "      <td>\\n          ASP.NET is a web framework for bui...</td>\n",
       "      <td>https://github.com/topics/aspnet</td>\n",
       "    </tr>\n",
       "    <tr>\n",
       "      <th>10</th>\n",
       "      <td>Awesome Lists</td>\n",
       "      <td>\\n          An awesome list is a list of aweso...</td>\n",
       "      <td>https://github.com/topics/awesome</td>\n",
       "    </tr>\n",
       "    <tr>\n",
       "      <th>11</th>\n",
       "      <td>Amazon Web Services</td>\n",
       "      <td>\\n          Amazon Web Services provides on-de...</td>\n",
       "      <td>https://github.com/topics/aws</td>\n",
       "    </tr>\n",
       "    <tr>\n",
       "      <th>12</th>\n",
       "      <td>Azure</td>\n",
       "      <td>\\n          Azure is a cloud computing service...</td>\n",
       "      <td>https://github.com/topics/azure</td>\n",
       "    </tr>\n",
       "    <tr>\n",
       "      <th>13</th>\n",
       "      <td>Babel</td>\n",
       "      <td>\\n          Babel is a compiler for writing ne...</td>\n",
       "      <td>https://github.com/topics/babel</td>\n",
       "    </tr>\n",
       "    <tr>\n",
       "      <th>14</th>\n",
       "      <td>Bash</td>\n",
       "      <td>\\n          Bash is a shell and command langua...</td>\n",
       "      <td>https://github.com/topics/bash</td>\n",
       "    </tr>\n",
       "    <tr>\n",
       "      <th>15</th>\n",
       "      <td>Bitcoin</td>\n",
       "      <td>\\n          Bitcoin is a cryptocurrency develo...</td>\n",
       "      <td>https://github.com/topics/bitcoin</td>\n",
       "    </tr>\n",
       "    <tr>\n",
       "      <th>16</th>\n",
       "      <td>Bootstrap</td>\n",
       "      <td>\\n          Bootstrap is an HTML, CSS, and Jav...</td>\n",
       "      <td>https://github.com/topics/bootstrap</td>\n",
       "    </tr>\n",
       "    <tr>\n",
       "      <th>17</th>\n",
       "      <td>Bot</td>\n",
       "      <td>\\n          A bot is an application that runs ...</td>\n",
       "      <td>https://github.com/topics/bot</td>\n",
       "    </tr>\n",
       "    <tr>\n",
       "      <th>18</th>\n",
       "      <td>C</td>\n",
       "      <td>\\n          C is a general purpose programming...</td>\n",
       "      <td>https://github.com/topics/c</td>\n",
       "    </tr>\n",
       "    <tr>\n",
       "      <th>19</th>\n",
       "      <td>Chrome</td>\n",
       "      <td>\\n          Chrome is a web browser from the t...</td>\n",
       "      <td>https://github.com/topics/chrome</td>\n",
       "    </tr>\n",
       "    <tr>\n",
       "      <th>20</th>\n",
       "      <td>Chrome extension</td>\n",
       "      <td>\\n          Chrome extensions enable users to ...</td>\n",
       "      <td>https://github.com/topics/chrome-extension</td>\n",
       "    </tr>\n",
       "    <tr>\n",
       "      <th>21</th>\n",
       "      <td>Command-line interface</td>\n",
       "      <td>\\n          A CLI, or command-line interface, ...</td>\n",
       "      <td>https://github.com/topics/cli</td>\n",
       "    </tr>\n",
       "    <tr>\n",
       "      <th>22</th>\n",
       "      <td>Clojure</td>\n",
       "      <td>\\n          Clojure is a dynamic, general-purp...</td>\n",
       "      <td>https://github.com/topics/clojure</td>\n",
       "    </tr>\n",
       "    <tr>\n",
       "      <th>23</th>\n",
       "      <td>Code quality</td>\n",
       "      <td>\\n          Automate your code review with sty...</td>\n",
       "      <td>https://github.com/topics/code-quality</td>\n",
       "    </tr>\n",
       "    <tr>\n",
       "      <th>24</th>\n",
       "      <td>Code review</td>\n",
       "      <td>\\n          Ensure your code meets quality sta...</td>\n",
       "      <td>https://github.com/topics/code-review</td>\n",
       "    </tr>\n",
       "    <tr>\n",
       "      <th>25</th>\n",
       "      <td>Compiler</td>\n",
       "      <td>\\n          Compilers are software that transl...</td>\n",
       "      <td>https://github.com/topics/compiler</td>\n",
       "    </tr>\n",
       "    <tr>\n",
       "      <th>26</th>\n",
       "      <td>Continuous integration</td>\n",
       "      <td>\\n          Automatically build and test your ...</td>\n",
       "      <td>https://github.com/topics/continuous-integration</td>\n",
       "    </tr>\n",
       "    <tr>\n",
       "      <th>27</th>\n",
       "      <td>C++</td>\n",
       "      <td>\\n          C++ is a general purpose and objec...</td>\n",
       "      <td>https://github.com/topics/cpp</td>\n",
       "    </tr>\n",
       "    <tr>\n",
       "      <th>28</th>\n",
       "      <td>Cryptocurrency</td>\n",
       "      <td>\\n          A cryptocurrency is a digital curr...</td>\n",
       "      <td>https://github.com/topics/cryptocurrency</td>\n",
       "    </tr>\n",
       "    <tr>\n",
       "      <th>29</th>\n",
       "      <td>Crystal</td>\n",
       "      <td>\\n          Crystal is a self-hosted, general ...</td>\n",
       "      <td>https://github.com/topics/crystal</td>\n",
       "    </tr>\n",
       "  </tbody>\n",
       "</table>\n",
       "</div>"
      ],
      "text/plain": [
       "              GitHub_Topic                                         Topic_Desc  \\\n",
       "0                       3D  \\n          3D refers to the use of three-dime...   \n",
       "1                     Ajax  \\n          Ajax is a technique for creating i...   \n",
       "2                Algorithm  \\n          Algorithms are self-contained sequ...   \n",
       "3                      Amp  \\n          Amp is a non-blocking concurrency ...   \n",
       "4                  Android  \\n          Android is an operating system bui...   \n",
       "5                  Angular  \\n          Angular is an open source web appl...   \n",
       "6                  Ansible  \\n          Ansible is a simple and powerful a...   \n",
       "7                      API  \\n          An API (Application Programming In...   \n",
       "8                  Arduino  \\n          Arduino is an open source platform...   \n",
       "9                  ASP.NET  \\n          ASP.NET is a web framework for bui...   \n",
       "10           Awesome Lists  \\n          An awesome list is a list of aweso...   \n",
       "11     Amazon Web Services  \\n          Amazon Web Services provides on-de...   \n",
       "12                   Azure  \\n          Azure is a cloud computing service...   \n",
       "13                   Babel  \\n          Babel is a compiler for writing ne...   \n",
       "14                    Bash  \\n          Bash is a shell and command langua...   \n",
       "15                 Bitcoin  \\n          Bitcoin is a cryptocurrency develo...   \n",
       "16               Bootstrap  \\n          Bootstrap is an HTML, CSS, and Jav...   \n",
       "17                     Bot  \\n          A bot is an application that runs ...   \n",
       "18                       C  \\n          C is a general purpose programming...   \n",
       "19                  Chrome  \\n          Chrome is a web browser from the t...   \n",
       "20        Chrome extension  \\n          Chrome extensions enable users to ...   \n",
       "21  Command-line interface  \\n          A CLI, or command-line interface, ...   \n",
       "22                 Clojure  \\n          Clojure is a dynamic, general-purp...   \n",
       "23            Code quality  \\n          Automate your code review with sty...   \n",
       "24             Code review  \\n          Ensure your code meets quality sta...   \n",
       "25                Compiler  \\n          Compilers are software that transl...   \n",
       "26  Continuous integration  \\n          Automatically build and test your ...   \n",
       "27                     C++  \\n          C++ is a general purpose and objec...   \n",
       "28          Cryptocurrency  \\n          A cryptocurrency is a digital curr...   \n",
       "29                 Crystal  \\n          Crystal is a self-hosted, general ...   \n",
       "\n",
       "                                          Topic_Link  \n",
       "0                       https://github.com/topics/3d  \n",
       "1                     https://github.com/topics/ajax  \n",
       "2                https://github.com/topics/algorithm  \n",
       "3                    https://github.com/topics/amphp  \n",
       "4                  https://github.com/topics/android  \n",
       "5                  https://github.com/topics/angular  \n",
       "6                  https://github.com/topics/ansible  \n",
       "7                      https://github.com/topics/api  \n",
       "8                  https://github.com/topics/arduino  \n",
       "9                   https://github.com/topics/aspnet  \n",
       "10                 https://github.com/topics/awesome  \n",
       "11                     https://github.com/topics/aws  \n",
       "12                   https://github.com/topics/azure  \n",
       "13                   https://github.com/topics/babel  \n",
       "14                    https://github.com/topics/bash  \n",
       "15                 https://github.com/topics/bitcoin  \n",
       "16               https://github.com/topics/bootstrap  \n",
       "17                     https://github.com/topics/bot  \n",
       "18                       https://github.com/topics/c  \n",
       "19                  https://github.com/topics/chrome  \n",
       "20        https://github.com/topics/chrome-extension  \n",
       "21                     https://github.com/topics/cli  \n",
       "22                 https://github.com/topics/clojure  \n",
       "23            https://github.com/topics/code-quality  \n",
       "24             https://github.com/topics/code-review  \n",
       "25                https://github.com/topics/compiler  \n",
       "26  https://github.com/topics/continuous-integration  \n",
       "27                     https://github.com/topics/cpp  \n",
       "28          https://github.com/topics/cryptocurrency  \n",
       "29                 https://github.com/topics/crystal  "
      ]
     },
     "execution_count": 32,
     "metadata": {},
     "output_type": "execute_result"
    }
   ],
   "source": [
    "df1"
   ]
  },
  {
   "cell_type": "code",
   "execution_count": 33,
   "id": "a24eb6c0-be97-4431-9008-0dabc29e9c86",
   "metadata": {},
   "outputs": [],
   "source": [
    "df1.to_csv('GitHub_Topics.csv')"
   ]
  },
  {
   "cell_type": "code",
   "execution_count": 35,
   "id": "be8c44f6-eb0b-4f4d-b425-85837a63b5d6",
   "metadata": {},
   "outputs": [
    {
     "data": {
      "text/plain": [
       "0                         https://github.com/topics/3d\n",
       "1                       https://github.com/topics/ajax\n",
       "2                  https://github.com/topics/algorithm\n",
       "3                      https://github.com/topics/amphp\n",
       "4                    https://github.com/topics/android\n",
       "5                    https://github.com/topics/angular\n",
       "6                    https://github.com/topics/ansible\n",
       "7                        https://github.com/topics/api\n",
       "8                    https://github.com/topics/arduino\n",
       "9                     https://github.com/topics/aspnet\n",
       "10                   https://github.com/topics/awesome\n",
       "11                       https://github.com/topics/aws\n",
       "12                     https://github.com/topics/azure\n",
       "13                     https://github.com/topics/babel\n",
       "14                      https://github.com/topics/bash\n",
       "15                   https://github.com/topics/bitcoin\n",
       "16                 https://github.com/topics/bootstrap\n",
       "17                       https://github.com/topics/bot\n",
       "18                         https://github.com/topics/c\n",
       "19                    https://github.com/topics/chrome\n",
       "20          https://github.com/topics/chrome-extension\n",
       "21                       https://github.com/topics/cli\n",
       "22                   https://github.com/topics/clojure\n",
       "23              https://github.com/topics/code-quality\n",
       "24               https://github.com/topics/code-review\n",
       "25                  https://github.com/topics/compiler\n",
       "26    https://github.com/topics/continuous-integration\n",
       "27                       https://github.com/topics/cpp\n",
       "28            https://github.com/topics/cryptocurrency\n",
       "29                   https://github.com/topics/crystal\n",
       "Name: Topic_Link, dtype: object"
      ]
     },
     "execution_count": 35,
     "metadata": {},
     "output_type": "execute_result"
    }
   ],
   "source": [
    "df1['Topic_Link']"
   ]
  },
  {
   "cell_type": "code",
   "execution_count": 60,
   "id": "fc036235-e53d-4e07-b248-9ada1fc66d32",
   "metadata": {},
   "outputs": [],
   "source": [
    "user = []\n",
    "repo = []\n",
    "repolink = []\n",
    "star = []"
   ]
  },
  {
   "cell_type": "code",
   "execution_count": 61,
   "id": "83bbc27a-1eee-42f8-a791-c4931bf7cbf2",
   "metadata": {},
   "outputs": [],
   "source": [
    "for url in df1['Topic_Link']:\n",
    "    data = BeautifulSoup(requests.get(url).content,'html.parser')\n",
    "    for a in data.find_all('div',class_='d-flex flex-justify-between flex-items-start flex-wrap gap-2 my-3'):\n",
    "        u = a.find('a').text\n",
    "        user.append(u)\n",
    "        r = a.find_all('a')[1].text\n",
    "        repo.append(r)\n",
    "        repolink.append(\"https://github.com/\"+u+\"/\"+r)\n",
    "        star.append(a.find('span',class_='Counter js-social-count')['title'])"
   ]
  },
  {
   "cell_type": "code",
   "execution_count": 62,
   "id": "6fccacd7-4707-419a-8a22-d90335e5807b",
   "metadata": {},
   "outputs": [
    {
     "data": {
      "text/plain": [
       "(600, 600, 600, 600)"
      ]
     },
     "execution_count": 62,
     "metadata": {},
     "output_type": "execute_result"
    }
   ],
   "source": [
    "len(user) , len(repo) , len(repolink) , len(star)"
   ]
  },
  {
   "cell_type": "code",
   "execution_count": 63,
   "id": "05c2c622-5053-4003-90e3-470c5561c459",
   "metadata": {},
   "outputs": [],
   "source": [
    "ds = {\n",
    "    'Username' : user,\n",
    "    'Repo_Name' : repo,\n",
    "    'Repo_Link' : repolink,\n",
    "    'Stars' : star\n",
    "}"
   ]
  },
  {
   "cell_type": "code",
   "execution_count": 64,
   "id": "80fc00fb-08dc-4734-906c-00dfbcf00337",
   "metadata": {},
   "outputs": [],
   "source": [
    "df2 = pd.DataFrame(ds)"
   ]
  },
  {
   "cell_type": "code",
   "execution_count": 65,
   "id": "8a542c8c-6b29-456e-bd83-0d6e800235c6",
   "metadata": {},
   "outputs": [
    {
     "data": {
      "text/plain": [
       "(600, 4)"
      ]
     },
     "execution_count": 65,
     "metadata": {},
     "output_type": "execute_result"
    }
   ],
   "source": [
    "df2.shape"
   ]
  },
  {
   "cell_type": "code",
   "execution_count": 66,
   "id": "51714296-fec9-4439-a292-4c556360a561",
   "metadata": {},
   "outputs": [
    {
     "data": {
      "text/html": [
       "<div>\n",
       "<style scoped>\n",
       "    .dataframe tbody tr th:only-of-type {\n",
       "        vertical-align: middle;\n",
       "    }\n",
       "\n",
       "    .dataframe tbody tr th {\n",
       "        vertical-align: top;\n",
       "    }\n",
       "\n",
       "    .dataframe thead th {\n",
       "        text-align: right;\n",
       "    }\n",
       "</style>\n",
       "<table border=\"1\" class=\"dataframe\">\n",
       "  <thead>\n",
       "    <tr style=\"text-align: right;\">\n",
       "      <th></th>\n",
       "      <th>Username</th>\n",
       "      <th>Repo_Name</th>\n",
       "      <th>Repo_Link</th>\n",
       "      <th>Stars</th>\n",
       "    </tr>\n",
       "  </thead>\n",
       "  <tbody>\n",
       "    <tr>\n",
       "      <th>0</th>\n",
       "      <td>mrdoob</td>\n",
       "      <td>three.js</td>\n",
       "      <td>https://github.com/mrdoob/three.js</td>\n",
       "      <td>104,790</td>\n",
       "    </tr>\n",
       "    <tr>\n",
       "      <th>1</th>\n",
       "      <td>pmndrs</td>\n",
       "      <td>react-three-fiber</td>\n",
       "      <td>https://github.com/pmndrs/react-three-fiber</td>\n",
       "      <td>28,326</td>\n",
       "    </tr>\n",
       "    <tr>\n",
       "      <th>2</th>\n",
       "      <td>libgdx</td>\n",
       "      <td>libgdx</td>\n",
       "      <td>https://github.com/libgdx/libgdx</td>\n",
       "      <td>23,804</td>\n",
       "    </tr>\n",
       "    <tr>\n",
       "      <th>3</th>\n",
       "      <td>BabylonJS</td>\n",
       "      <td>Babylon.js</td>\n",
       "      <td>https://github.com/BabylonJS/Babylon.js</td>\n",
       "      <td>23,712</td>\n",
       "    </tr>\n",
       "    <tr>\n",
       "      <th>4</th>\n",
       "      <td>FreeCAD</td>\n",
       "      <td>FreeCAD</td>\n",
       "      <td>https://github.com/FreeCAD/FreeCAD</td>\n",
       "      <td>23,391</td>\n",
       "    </tr>\n",
       "    <tr>\n",
       "      <th>5</th>\n",
       "      <td>ssloy</td>\n",
       "      <td>tinyrenderer</td>\n",
       "      <td>https://github.com/ssloy/tinyrenderer</td>\n",
       "      <td>21,413</td>\n",
       "    </tr>\n",
       "    <tr>\n",
       "      <th>6</th>\n",
       "      <td>lettier</td>\n",
       "      <td>3d-game-shaders-for-beginners</td>\n",
       "      <td>https://github.com/lettier/3d-game-shaders-for...</td>\n",
       "      <td>18,430</td>\n",
       "    </tr>\n",
       "    <tr>\n",
       "      <th>7</th>\n",
       "      <td>aframevr</td>\n",
       "      <td>aframe</td>\n",
       "      <td>https://github.com/aframevr/aframe</td>\n",
       "      <td>16,923</td>\n",
       "    </tr>\n",
       "    <tr>\n",
       "      <th>8</th>\n",
       "      <td>blender</td>\n",
       "      <td>blender</td>\n",
       "      <td>https://github.com/blender/blender</td>\n",
       "      <td>14,424</td>\n",
       "    </tr>\n",
       "    <tr>\n",
       "      <th>9</th>\n",
       "      <td>CesiumGS</td>\n",
       "      <td>cesium</td>\n",
       "      <td>https://github.com/CesiumGS/cesium</td>\n",
       "      <td>13,386</td>\n",
       "    </tr>\n",
       "  </tbody>\n",
       "</table>\n",
       "</div>"
      ],
      "text/plain": [
       "    Username                      Repo_Name  \\\n",
       "0     mrdoob                       three.js   \n",
       "1     pmndrs              react-three-fiber   \n",
       "2     libgdx                         libgdx   \n",
       "3  BabylonJS                     Babylon.js   \n",
       "4    FreeCAD                        FreeCAD   \n",
       "5      ssloy                   tinyrenderer   \n",
       "6    lettier  3d-game-shaders-for-beginners   \n",
       "7   aframevr                         aframe   \n",
       "8    blender                        blender   \n",
       "9   CesiumGS                         cesium   \n",
       "\n",
       "                                           Repo_Link    Stars  \n",
       "0                 https://github.com/mrdoob/three.js  104,790  \n",
       "1        https://github.com/pmndrs/react-three-fiber   28,326  \n",
       "2                   https://github.com/libgdx/libgdx   23,804  \n",
       "3            https://github.com/BabylonJS/Babylon.js   23,712  \n",
       "4                 https://github.com/FreeCAD/FreeCAD   23,391  \n",
       "5              https://github.com/ssloy/tinyrenderer   21,413  \n",
       "6  https://github.com/lettier/3d-game-shaders-for...   18,430  \n",
       "7                 https://github.com/aframevr/aframe   16,923  \n",
       "8                 https://github.com/blender/blender   14,424  \n",
       "9                 https://github.com/CesiumGS/cesium   13,386  "
      ]
     },
     "execution_count": 66,
     "metadata": {},
     "output_type": "execute_result"
    }
   ],
   "source": [
    "df2.head(10)"
   ]
  },
  {
   "cell_type": "code",
   "execution_count": 67,
   "id": "9ec484b3-19f0-4e86-bde4-cc44dd5962bd",
   "metadata": {},
   "outputs": [],
   "source": [
    "df2.to_csv('RepoReport.csv')"
   ]
  },
  {
   "cell_type": "markdown",
   "id": "24cdd81b-5323-403d-a2a5-0e96f4fc26b8",
   "metadata": {},
   "source": [
    "# Project End"
   ]
  }
 ],
 "metadata": {
  "kernelspec": {
   "display_name": "Python 3 (ipykernel)",
   "language": "python",
   "name": "python3"
  },
  "language_info": {
   "codemirror_mode": {
    "name": "ipython",
    "version": 3
   },
   "file_extension": ".py",
   "mimetype": "text/x-python",
   "name": "python",
   "nbconvert_exporter": "python",
   "pygments_lexer": "ipython3",
   "version": "3.12.5"
  }
 },
 "nbformat": 4,
 "nbformat_minor": 5
}
